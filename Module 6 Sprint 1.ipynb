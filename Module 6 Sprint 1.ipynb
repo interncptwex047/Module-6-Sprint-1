{
 "cells": [
  {
   "cell_type": "code",
   "execution_count": 4,
   "metadata": {},
   "outputs": [
    {
     "name": "stdout",
     "output_type": "stream",
     "text": [
      "   Chips Cooldrinks Chocolates          Pies   Fruit   Cupcakes  Veggies\n",
      "a  Simba       Coke    Cadbury  Pepper Steak    Pear    vanilla  spinach\n",
      "b   Lays      Fanta        Tex       Chicken   Apple  chocolate  cabbage\n",
      "c    NaN        NaN        NaN           NaN  Orange        NaN      NaN\n"
     ]
    }
   ],
   "source": [
    "import pandas as pd\n",
    "\n",
    "data= {\n",
    "    'Chips': pd.Series(['Simba', 'Lays'], index=['a','b']),\n",
    "    'Cooldrinks': pd.Series(['Coke', 'Fanta'], index=['a','b']),\n",
    "    'Chocolates': pd.Series(['Cadbury', 'Tex'], index=['a','b']),\n",
    "    'Pies': pd.Series(['Pepper Steak', 'Chicken'], index=['a','b']),\n",
    "    'Fruit': pd.Series(['Pear', 'Apple', 'Orange'], index=['a','b','c']),\n",
    "    'Cupcakes': pd.Series(['vanilla', 'chocolate'], index=['a','b']), \n",
    "    'Veggies': pd.Series(['spinach', 'cabbage'], index=['a','b'])\n",
    "                          }\n",
    "\n",
    "df = pd.DataFrame(data)\n",
    "print (df)"
   ]
  },
  {
   "cell_type": "code",
   "execution_count": 10,
   "metadata": {},
   "outputs": [
    {
     "ename": "TypeError",
     "evalue": "object of type 'int' has no len()",
     "output_type": "error",
     "traceback": [
      "\u001b[1;31m---------------------------------------------------------------------------\u001b[0m",
      "\u001b[1;31mTypeError\u001b[0m                                 Traceback (most recent call last)",
      "\u001b[1;32m<ipython-input-10-c7d317ecf1b4>\u001b[0m in \u001b[0;36m<module>\u001b[1;34m\u001b[0m\n\u001b[0;32m      7\u001b[0m 'Veggies': ['spinach', 'cabbage']}\n\u001b[0;32m      8\u001b[0m \u001b[1;33m\u001b[0m\u001b[0m\n\u001b[1;32m----> 9\u001b[1;33m \u001b[0mdf\u001b[0m \u001b[1;33m=\u001b[0m \u001b[0mpd\u001b[0m\u001b[1;33m.\u001b[0m\u001b[0mDataFrame\u001b[0m\u001b[1;33m(\u001b[0m\u001b[0mdata\u001b[0m\u001b[1;33m,\u001b[0m \u001b[0mindex\u001b[0m \u001b[1;33m=\u001b[0m \u001b[0mlen\u001b[0m\u001b[1;33m(\u001b[0m\u001b[1;36m7\u001b[0m\u001b[1;33m)\u001b[0m\u001b[1;33m)\u001b[0m\u001b[1;33m\u001b[0m\u001b[1;33m\u001b[0m\u001b[0m\n\u001b[0m\u001b[0;32m     10\u001b[0m \u001b[0mprint\u001b[0m\u001b[1;33m(\u001b[0m\u001b[0mdf\u001b[0m\u001b[1;33m)\u001b[0m\u001b[1;33m\u001b[0m\u001b[1;33m\u001b[0m\u001b[0m\n",
      "\u001b[1;31mTypeError\u001b[0m: object of type 'int' has no len()"
     ]
    }
   ],
   "source": [
    "\n",
    "data= {'Chips': ['Simba', 'Lays'],\n",
    "'Cooldrinks': ['Coke', 'Fanta'],\n",
    "'Chocolates': ['Cadbury', 'Tex'],\n",
    "'Pies': ['Pepper Steak', 'Chicken'],\n",
    "'Fruit': ['Pear', 'Apple', 'Orange'],\n",
    "'Cupcakes': ['vanilla', 'chocolate'],\n",
    "'Veggies': ['spinach', 'cabbage']}\n",
    "\n",
    "df = pd.DataFrame(data, index = len(7))\n",
    "print(df)"
   ]
  },
  {
   "cell_type": "code",
   "execution_count": null,
   "metadata": {},
   "outputs": [],
   "source": []
  }
 ],
 "metadata": {
  "kernelspec": {
   "display_name": "Python 3",
   "language": "python",
   "name": "python3"
  },
  "language_info": {
   "codemirror_mode": {
    "name": "ipython",
    "version": 3
   },
   "file_extension": ".py",
   "mimetype": "text/x-python",
   "name": "python",
   "nbconvert_exporter": "python",
   "pygments_lexer": "ipython3",
   "version": "3.7.6"
  }
 },
 "nbformat": 4,
 "nbformat_minor": 4
}
