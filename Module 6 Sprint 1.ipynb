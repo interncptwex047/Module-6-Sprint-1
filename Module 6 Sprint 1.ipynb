{
 "cells": [
  {
   "cell_type": "code",
   "execution_count": 18,
   "metadata": {},
   "outputs": [
    {
     "name": "stdout",
     "output_type": "stream",
     "text": [
      "   Chips Cooldrinks Chocolates          Pies   Fruit   Cupcakes  Veggies\n",
      "a  Simba       Coke    Cadbury  Pepper Steak    Pear    vanilla  spinach\n",
      "b   Lays      Fanta        Tex       Chicken   Apple  chocolate  cabbage\n",
      "c                                             Orange                    \n"
     ]
    }
   ],
   "source": [
    "import pandas as pd\n",
    "\n",
    "data= {\n",
    "    'Chips':['Simba', 'Lays',''], \n",
    "    'Cooldrinks':['Coke', 'Fanta',''],\n",
    "    'Chocolates':['Cadbury', 'Tex',''],\n",
    "    'Pies':['Pepper Steak', 'Chicken',''],\n",
    "    'Fruit':['Pear', 'Apple', 'Orange'],\n",
    "    'Cupcakes': ['vanilla', 'chocolate',''],\n",
    "    'Veggies': ['spinach', 'cabbage','']}\n",
    "\n",
    "    \n",
    "label=['a','b','c']\n",
    "                          \n",
    "\n",
    "df = pd.DataFrame(data, index = label)\n",
    "print (df)"
   ]
  },
  {
   "cell_type": "code",
   "execution_count": 19,
   "metadata": {},
   "outputs": [
    {
     "name": "stdout",
     "output_type": "stream",
     "text": [
      "   Chips Cooldrinks Chocolates          Pies   Fruit   Cupcakes  Veggies\n",
      "a  Simba       Coke    Cadbury  Pepper Steak    Pear    vanilla  spinach\n",
      "b   Lays      Fanta        Tex       Chicken   Apple  chocolate  cabbage\n",
      "c    NaN        NaN        NaN           NaN  Orange        NaN      NaN\n"
     ]
    }
   ],
   "source": [
    "import pandas as pd\n",
    "\n",
    "data= {\n",
    "    'Chips': pd.Series(['Simba', 'Lays'], index=['a','b']),\n",
    "    'Cooldrinks': pd.Series(['Coke', 'Fanta'], index=['a','b']),\n",
    "    'Chocolates': pd.Series(['Cadbury', 'Tex'], index=['a','b']),\n",
    "    'Pies': pd.Series(['Pepper Steak', 'Chicken'], index=['a','b']),\n",
    "    'Fruit': pd.Series(['Pear', 'Apple', 'Orange'], index=['a','b','c']),\n",
    "    'Cupcakes': pd.Series(['vanilla', 'chocolate'], index=['a','b']), \n",
    "    'Veggies': pd.Series(['spinach', 'cabbage'], index=['a','b'])\n",
    "                          }\n",
    "\n",
    "df = pd.DataFrame(data)\n",
    "print (df)"
   ]
  },
  {
   "cell_type": "code",
   "execution_count": null,
   "metadata": {},
   "outputs": [],
   "source": []
  }
 ],
 "metadata": {
  "kernelspec": {
   "display_name": "Python 3",
   "language": "python",
   "name": "python3"
  },
  "language_info": {
   "codemirror_mode": {
    "name": "ipython",
    "version": 3
   },
   "file_extension": ".py",
   "mimetype": "text/x-python",
   "name": "python",
   "nbconvert_exporter": "python",
   "pygments_lexer": "ipython3",
   "version": "3.7.6"
  }
 },
 "nbformat": 4,
 "nbformat_minor": 4
}
